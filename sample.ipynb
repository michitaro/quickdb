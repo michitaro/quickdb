{
 "cells": [
  {
   "cell_type": "code",
   "execution_count": null,
   "metadata": {},
   "outputs": [],
   "source": [
    "import webif as quickdb"
   ]
  },
  {
   "cell_type": "markdown",
   "metadata": {},
   "source": [
    "### Count all objects"
   ]
  },
  {
   "cell_type": "code",
   "execution_count": null,
   "metadata": {},
   "outputs": [],
   "source": [
    "sql = '''\n",
    "SELECT\n",
    "    count(*)\n",
    "FROM\n",
    "    pdr1_wide\n",
    "'''\n",
    "\n",
    "%time quickdb.dataframe(sql)"
   ]
  },
  {
   "cell_type": "markdown",
   "metadata": {},
   "source": [
    "### Count clean objects"
   ]
  },
  {
   "cell_type": "code",
   "execution_count": null,
   "metadata": {},
   "outputs": [],
   "source": [
    "filters = 'grizy'\n",
    "flags = '''\n",
    "    centroid_sdss_flags flags_pixel_edge\n",
    "    flags_pixel_interpolated_center flags_pixel_saturated_center\n",
    "    flags_pixel_cr_center flags_pixel_bad cmodel_flux_flags\n",
    "    '''.split()\n",
    "\n",
    "sql = f'''\n",
    "SELECT\n",
    "    count(*)\n",
    "FROM\n",
    "    pdr1_udeep\n",
    "WHERE\n",
    "    ref.\"detect_is-primary\"\n",
    "    AND { ' AND '.join(f'forced.{f}.id NOTNULL' for f in filters) }\n",
    "    AND { ' AND '.join(f'NOT forced.{f}.{flag}' for f in filters for flag in flags) }\n",
    "'''\n",
    "\n",
    "%time quickdb.dataframe(sql)"
   ]
  },
  {
   "cell_type": "markdown",
   "metadata": {},
   "source": [
    "### Count primary objects"
   ]
  },
  {
   "cell_type": "code",
   "execution_count": null,
   "metadata": {},
   "outputs": [],
   "source": [
    "sql = '''\n",
    "SELECT\n",
    "    count(*)\n",
    "FROM\n",
    "    pdr1_wide\n",
    "GROUP BY\n",
    "    ref.is_primary\n",
    "'''\n",
    "%time quickdb.dataframe(sql)"
   ]
  },
  {
   "cell_type": "markdown",
   "metadata": {},
   "source": [
    "### Magnitude Histogram"
   ]
  },
  {
   "cell_type": "code",
   "execution_count": null,
   "metadata": {},
   "outputs": [],
   "source": [
    "sql = '''\n",
    "    SELECT\n",
    "        histogram(f2m(forced.i.flux_sinc), bins => 200) as hist,\n",
    "        count(*)\n",
    "    FROM\n",
    "        pdr1_wide\n",
    "    WHERE\n",
    "        ref.\"detect_is-primary\"\n",
    "    GROUP BY\n",
    "        forced.i.classification_extendedness < 0.5\n",
    "'''\n",
    "\n",
    "%time hist1 = quickdb.dataframe(sql)\n",
    "hist1"
   ]
  },
  {
   "cell_type": "code",
   "execution_count": null,
   "metadata": {},
   "outputs": [],
   "source": [
    "%matplotlib inline\n",
    "from matplotlib import pyplot\n",
    "\n",
    "for i, row in hist1.iterrows():\n",
    "    hist, bins = row['hist']\n",
    "    group = row['group']\n",
    "    pyplot.plot(bins[1:], hist, label=f'group: {group}')\n",
    "pyplot.grid()\n",
    "pyplot.legend()"
   ]
  },
  {
   "cell_type": "markdown",
   "metadata": {},
   "source": [
    "## 2D Histogram"
   ]
  },
  {
   "cell_type": "markdown",
   "metadata": {},
   "source": [
    "### Stellar sequence"
   ]
  },
  {
   "cell_type": "code",
   "execution_count": null,
   "metadata": {},
   "outputs": [],
   "source": [
    "sql = f'''\n",
    "SELECT\n",
    "    histogram2d(\n",
    "        f2m(forced.g.flux_sinc) - f2m(forced.r.flux_sinc),    \n",
    "        f2m(forced.r.flux_sinc) - f2m(forced.i.flux_sinc),\n",
    "        bins => (200, 400),\n",
    "        range => ((0, 1.5), (-0.5, 2.5))\n",
    "    )\n",
    "FROM\n",
    "    pdr1_wide\n",
    "WHERE\n",
    "    ref.classification_extendedness < 0.5\n",
    "'''\n",
    "\n",
    "%time stellarsequence = quickdb.dataframe(sql)\n",
    "display(stellarsequence)"
   ]
  },
  {
   "cell_type": "code",
   "execution_count": null,
   "metadata": {},
   "outputs": [],
   "source": [
    "import numpy\n",
    "\n",
    "hist, xedges, yedges = stellarsequence['c0'][0]\n",
    "pyplot.imshow(numpy.log(1 + hist.T), origin='low', extent=[xedges[0], xedges[-1], yedges[0], yedges[-1]])"
   ]
  },
  {
   "cell_type": "markdown",
   "metadata": {},
   "source": [
    "### Spatial number count"
   ]
  },
  {
   "cell_type": "code",
   "execution_count": null,
   "metadata": {},
   "outputs": [],
   "source": [
    "sql = f'''\n",
    "SELECT\n",
    "    histogram2d(\n",
    "        ref.coord[0] * degree,\n",
    "        ref.coord[1] * degree,\n",
    "        bins => (200, 200)\n",
    "    ) as count\n",
    "\n",
    "FROM pdr1_wide\n",
    "WHERE\n",
    "    ref.coord[0] * degree BETWEEN 210 AND 240 AND\n",
    "    ref.coord[1] * degree BETWEEN -10 AND 10 AND\n",
    "    ref.\"detect_is-primary\"\n",
    "    '''\n",
    "\n",
    "%time numbercount = quickdb.dataframe(sql)\n",
    "hist, xedges, yedges = numbercount['count'][0]\n",
    "\n",
    "pyplot.imshow(hist.T, origin='low', extent=[xedges[0], xedges[-1], yedges[0], yedges[-1]])"
   ]
  },
  {
   "cell_type": "code",
   "execution_count": null,
   "metadata": {
    "jupyter": {
     "source_hidden": true
    }
   },
   "outputs": [],
   "source": [
    "sql = f'''\n",
    "SELECT\n",
    "    histogram2d(\n",
    "        ref.coord[0] * degree,\n",
    "        ref.coord[1] * degree,\n",
    "        bins => (200, 200)\n",
    "    )\n",
    "FROM\n",
    "    pdr1_udeep\n",
    "WHERE\n",
    "    ref.\"detect_is-primary\"\n",
    "GROUP BY\n",
    "    ref.coord[0] * degree // 30,\n",
    "    ref.coord[1] * degree // 30\n",
    "'''\n",
    "\n",
    "# %time numbercount2 = quickdb.dataframe(sql)\n",
    "\n",
    "# for hist, xedges, yedges in numbercount2['c0']:\n",
    "#     pyplot.imshow(numpy.log(hist.T+1), origin='low', extent=[xedges[0], xedges[-1], yedges[0], yedges[-1]])\n",
    "#     pyplot.show()"
   ]
  },
  {
   "cell_type": "markdown",
   "metadata": {},
   "source": [
    "### Crossmatch"
   ]
  },
  {
   "cell_type": "markdown",
   "metadata": {},
   "source": [
    "#### install hscmap jupyterLab extension"
   ]
  },
  {
   "cell_type": "markdown",
   "metadata": {},
   "source": [
    "https://hsc-gitlab.mtk.nao.ac.jp/ssp-software/jupyterlab-hscmap"
   ]
  },
  {
   "cell_type": "markdown",
   "metadata": {},
   "source": [
    "Open hscmap window"
   ]
  },
  {
   "cell_type": "code",
   "execution_count": null,
   "metadata": {},
   "outputs": [],
   "source": [
    "import hscmap\n",
    "w = hscmap.Window()"
   ]
  },
  {
   "cell_type": "markdown",
   "metadata": {},
   "source": [
    "#### Generate random coordinates for testing"
   ]
  },
  {
   "cell_type": "code",
   "execution_count": null,
   "metadata": {},
   "outputs": [],
   "source": [
    "import numpy\n",
    "\n",
    "def gen_coord(n):\n",
    "    a0 = 331\n",
    "    a1 = 340\n",
    "    d0 = -0.58\n",
    "    d1 = 2\n",
    "    r = numpy.random.uniform(a0, a1, n)\n",
    "    d = numpy.random.uniform(d0, d1, n)\n",
    "    return numpy.array([r, d])\n",
    "\n",
    "my_cat = gen_coord(10000)"
   ]
  },
  {
   "cell_type": "markdown",
   "metadata": {},
   "source": [
    "### Plot randomly generate points"
   ]
  },
  {
   "cell_type": "code",
   "execution_count": null,
   "metadata": {},
   "outputs": [],
   "source": [
    "w.jump_to(335, 0, 5)\n",
    "w.catalogs.clear()\n",
    "w.catalogs.new(*my_cat, color=[0, 1, 0, 0.25])"
   ]
  },
  {
   "cell_type": "code",
   "execution_count": null,
   "metadata": {},
   "outputs": [],
   "source": [
    "sql = f'''\n",
    "SELECT\n",
    "    crossmatch(\n",
    "        ref.coord,                -- reference catalog\n",
    "        shared.my_cat / degree,   -- user's catalog [radian]\n",
    "        5 / arcsec,               -- match radius   [radian]\n",
    "        ref.id,                   -- columns to extract[0]\n",
    "        ref.coord * degree,       --                   [1]\n",
    "        f2m(forced.i.flux_sinc)   --                   [2]\n",
    "    ) as crossmatch\n",
    "FROM\n",
    "    pdr1_wide\n",
    "WHERE\n",
    "    ref.\"detect_is-primary\"\n",
    "    -- AND forced.i.classification_extendedness < 0.5\n",
    "'''\n",
    "\n",
    "%time df = quickdb.dataframe(sql, shared={'my_cat': my_cat.T})\n",
    "df"
   ]
  },
  {
   "cell_type": "markdown",
   "metadata": {},
   "source": [
    "#### Plot matched pairs"
   ]
  },
  {
   "cell_type": "code",
   "execution_count": null,
   "metadata": {},
   "outputs": [],
   "source": [
    "cm = df['crossmatch'][0]\n",
    "\n",
    "my_cat_index, extracted_columns = cm\n",
    "matched_coord = extracted_columns[1]\n",
    "\n",
    "w.catalogs.clear()\n",
    "m1 = w.catalogs.new(*my_cat)\n",
    "m2 = w.catalogs.new(*matched_coord.T, color=[1, 0, 0, 0.5])\n"
   ]
  },
  {
   "cell_type": "code",
   "execution_count": null,
   "metadata": {},
   "outputs": [],
   "source": [
    "extracted_columns[2] # f2m(forced.i.flux_sinc)"
   ]
  },
  {
   "cell_type": "code",
   "execution_count": null,
   "metadata": {},
   "outputs": [],
   "source": []
  }
 ],
 "metadata": {
  "kernelspec": {
   "display_name": "Python 3",
   "language": "python",
   "name": "python3"
  },
  "language_info": {
   "codemirror_mode": {
    "name": "ipython",
    "version": 3
   },
   "file_extension": ".py",
   "mimetype": "text/x-python",
   "name": "python",
   "nbconvert_exporter": "python",
   "pygments_lexer": "ipython3",
   "version": "3.7.3"
  }
 },
 "nbformat": 4,
 "nbformat_minor": 4
}
