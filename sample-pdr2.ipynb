{
 "cells": [
  {
   "cell_type": "code",
   "execution_count": 2,
   "metadata": {},
   "outputs": [],
   "source": [
    "import webif as quickdb"
   ]
  },
  {
   "cell_type": "markdown",
   "metadata": {},
   "source": [
    "### Count all objects"
   ]
  },
  {
   "cell_type": "code",
   "execution_count": null,
   "metadata": {},
   "outputs": [],
   "source": [
    "sql = '''\n",
    "SELECT\n",
    "    count(*)\n",
    "FROM\n",
    "    pdr2_wide\n",
    "'''\n",
    "\n",
    "%time quickdb.dataframe(sql)"
   ]
  },
  {
   "cell_type": "code",
   "execution_count": null,
   "metadata": {},
   "outputs": [],
   "source": [
    "sql = '''\n",
    "SELECT\n",
    "    count(*)\n",
    "FROM\n",
    "    pdr2_wide\n",
    "GROUP BY\n",
    "    forced.universal.isprimary\n",
    "'''\n",
    "\n",
    "%time quickdb.dataframe(sql)"
   ]
  },
  {
   "cell_type": "markdown",
   "metadata": {},
   "source": [
    "### Magnitude Histogram"
   ]
  },
  {
   "cell_type": "code",
   "execution_count": null,
   "metadata": {},
   "outputs": [],
   "source": [
    "sql = '''\n",
    "    SELECT\n",
    "        histogram(forced.i.psfflux_mag, bins => 200, range => (10, 30)) as hist\n",
    "    FROM\n",
    "        pdr2_wide\n",
    "    WHERE\n",
    "        forced.universal.isprimary\n",
    "    GROUP BY\n",
    "        forced.i.extendedness_value < 0.5\n",
    "'''\n",
    "\n",
    "%time hist1 = quickdb.dataframe(sql)\n",
    "hist1\n",
    "\n",
    "%matplotlib inline\n",
    "from matplotlib import pyplot\n",
    "\n",
    "for i, row in hist1.iterrows():\n",
    "    hist, bins = row['hist']\n",
    "    group = row['group']\n",
    "    pyplot.plot(bins[1:], hist, label=f'group: {group}')\n",
    "pyplot.grid()\n",
    "pyplot.legend()"
   ]
  },
  {
   "cell_type": "markdown",
   "metadata": {},
   "source": [
    "## 2D Histogram"
   ]
  },
  {
   "cell_type": "markdown",
   "metadata": {},
   "source": [
    "### Stellar sequence"
   ]
  },
  {
   "cell_type": "code",
   "execution_count": null,
   "metadata": {},
   "outputs": [],
   "source": [
    "sql = f'''\n",
    "SELECT\n",
    "    histogram2d(\n",
    "        forced.g.psfflux_mag - forced.r.psfflux_mag,\n",
    "        forced.r.psfflux_mag - forced.i.psfflux_mag,\n",
    "        bins => (200, 400),\n",
    "        range => ((0, 1.5), (-0.5, 2.5))\n",
    "    )\n",
    "FROM\n",
    "    pdr2_dud\n",
    "WHERE\n",
    "    forced.universal.isprimary\n",
    "    AND\n",
    "    forced.i.extendedness_value < 0.5\n",
    "'''\n",
    "\n",
    "%time stellarsequence = quickdb.dataframe(sql)\n",
    "display(stellarsequence)\n",
    "\n",
    "import numpy\n",
    "\n",
    "hist, xedges, yedges = stellarsequence['c0'][0]\n",
    "pyplot.imshow(numpy.log(1 + hist.T), origin='low', extent=[xedges[0], xedges[-1], yedges[0], yedges[-1]])"
   ]
  }
 ],
 "metadata": {
  "kernelspec": {
   "display_name": "Python 3",
   "language": "python",
   "name": "python3"
  },
  "language_info": {
   "codemirror_mode": {
    "name": "ipython",
    "version": 3
   },
   "file_extension": ".py",
   "mimetype": "text/x-python",
   "name": "python",
   "nbconvert_exporter": "python",
   "pygments_lexer": "ipython3",
   "version": "3.7.3"
  }
 },
 "nbformat": 4,
 "nbformat_minor": 4
}
