{
 "cells": [
  {
   "cell_type": "code",
   "execution_count": null,
   "metadata": {},
   "outputs": [],
   "source": [
    "from webclient import DockerCluster"
   ]
  },
  {
   "cell_type": "code",
   "execution_count": null,
   "metadata": {},
   "outputs": [],
   "source": [
    "dc1 = DockerCluster()"
   ]
  },
  {
   "cell_type": "code",
   "execution_count": null,
   "metadata": {},
   "outputs": [],
   "source": [
    "dc1.id"
   ]
  },
  {
   "cell_type": "code",
   "execution_count": null,
   "metadata": {},
   "outputs": [],
   "source": [
    "dc1.query('''\n",
    "        import subprocess\n",
    "\n",
    "        def mapper(t):\n",
    "            return {subprocess.check_output([command])}\n",
    "            \n",
    "        def reducer(acc, val):           \n",
    "            return acc.union(val)\n",
    "           \n",
    "        initial = set()\n",
    "''', context={'command': 'hostname'})"
   ]
  },
  {
   "cell_type": "code",
   "execution_count": null,
   "metadata": {},
   "outputs": [],
   "source": [
    "dc1.stop()"
   ]
  },
  {
   "cell_type": "code",
   "execution_count": null,
   "metadata": {},
   "outputs": [],
   "source": [
    "dc2 = DockerCluster()"
   ]
  },
  {
   "cell_type": "code",
   "execution_count": null,
   "metadata": {},
   "outputs": [],
   "source": [
    "%matplotlib inline\n",
    "\n",
    "from matplotlib import pyplot"
   ]
  },
  {
   "cell_type": "code",
   "execution_count": null,
   "metadata": {},
   "outputs": [],
   "source": [
    "hist, edge = dc1.query('''\n",
    "        import subprocess\n",
    "        import numpy\n",
    "        \n",
    "        def flux_to_mag(flux):\n",
    "            mag0 = 27\n",
    "            return -5./2. * numpy.log10(flux) + mag0\n",
    "\n",
    "        def mapper(t):\n",
    "            i = flux_to_mag(t.column(('forced', 'i', 'flux_sinc')))\n",
    "            return numpy.histogram(i, bins=100, range=(15, 30))\n",
    "\n",
    "        def reducer(acc, val):\n",
    "            return acc[0] + val[0], acc[1]\n",
    "''')\n",
    "\n",
    "pyplot.plot(edge[:-1], hist)"
   ]
  },
  {
   "cell_type": "code",
   "execution_count": null,
   "metadata": {},
   "outputs": [],
   "source": [
    "hist2d = dc1.query('''\n",
    "        import subprocess\n",
    "        import numpy\n",
    "        \n",
    "        def flux_to_mag(flux):\n",
    "            mag0 = 27\n",
    "            return -5./2. * numpy.log10(flux) + mag0\n",
    "\n",
    "        def mapper(t):\n",
    "            t = t[t.column(('ref', 'classification_extendedness')) < 0.5]\n",
    "            g = flux_to_mag(t.column(('forced', 'g', 'flux_sinc')))\n",
    "            r = flux_to_mag(t.column(('forced', 'r', 'flux_sinc')))\n",
    "            i = flux_to_mag(t.column(('forced', 'i', 'flux_sinc')))\n",
    "            return numpy.histogram2d(g - r, r - i, bins=(200, 400), range=((0, 1.5), (-0.5, 2.5)))\n",
    "\n",
    "        def reducer(acc, val):           \n",
    "            return acc[0] + val[0], acc[1], acc[2]\n",
    "''')\n",
    "\n",
    "import numpy\n",
    "\n",
    "hist, xedges, yedges = hist2d\n",
    "pyplot.imshow(numpy.log(1 + hist.T), origin='low', extent=[xedges[0], xedges[-1], yedges[0], yedges[-1]])"
   ]
  },
  {
   "cell_type": "code",
   "execution_count": null,
   "metadata": {},
   "outputs": [],
   "source": []
  }
 ],
 "metadata": {
  "kernelspec": {
   "display_name": "Python 3",
   "language": "python",
   "name": "python3"
  },
  "language_info": {
   "codemirror_mode": {
    "name": "ipython",
    "version": 3
   },
   "file_extension": ".py",
   "mimetype": "text/x-python",
   "name": "python",
   "nbconvert_exporter": "python",
   "pygments_lexer": "ipython3",
   "version": "3.7.3"
  }
 },
 "nbformat": 4,
 "nbformat_minor": 2
}
