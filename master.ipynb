{
 "cells": [
  {
   "cell_type": "code",
   "execution_count": null,
   "metadata": {},
   "outputs": [],
   "source": [
    "from quickdb.datarake import master\n",
    "from tqdm import tqdm"
   ]
  },
  {
   "cell_type": "markdown",
   "metadata": {},
   "source": [
    "### helper functions"
   ]
  },
  {
   "cell_type": "code",
   "execution_count": null,
   "metadata": {},
   "outputs": [],
   "source": [
    "def getbody(func):\n",
    "    import inspect\n",
    "    return '\\n'.join(inspect.getsource(func).split('\\n')[1:])"
   ]
  },
  {
   "cell_type": "code",
   "execution_count": null,
   "metadata": {},
   "outputs": [],
   "source": [
    "import contextlib\n",
    "\n",
    "@contextlib.contextmanager\n",
    "def progress_bar():\n",
    "    with tqdm(total=1, ncols=80) as pbar:\n",
    "        def progress(p):\n",
    "            pbar.total = p.total\n",
    "            pbar.n = p.done\n",
    "            pbar.refresh()\n",
    "        yield progress"
   ]
  },
  {
   "cell_type": "markdown",
   "metadata": {},
   "source": [
    "### 1D histogram"
   ]
  },
  {
   "cell_type": "code",
   "execution_count": null,
   "metadata": {},
   "outputs": [],
   "source": [
    "def make_env():\n",
    "    import numpy\n",
    "\n",
    "    rerun = 'pdr2_wide'\n",
    "\n",
    "    def mapper(patch):\n",
    "        mag = patch('forced.i.psfflux_mag')\n",
    "        return numpy.histogram(mag, bins=50, range=(0, 30))\n",
    "\n",
    "    def reducer(a, b):\n",
    "        return a[0] + b[0], a[1]\n",
    "\n",
    "with progress_bar() as progress:\n",
    "    %time result = master.run_make_env(getbody(make_env), {}, progress)\n",
    "\n",
    "%matplotlib inline\n",
    "from matplotlib import pyplot\n",
    "\n",
    "hist, bins = result\n",
    "pyplot.plot(bins[1:], hist)\n",
    "pyplot.grid()"
   ]
  },
  {
   "cell_type": "code",
   "execution_count": null,
   "metadata": {},
   "outputs": [],
   "source": []
  },
  {
   "cell_type": "markdown",
   "metadata": {},
   "source": [
    "### 2D histogram"
   ]
  },
  {
   "cell_type": "code",
   "execution_count": null,
   "metadata": {},
   "outputs": [],
   "source": [
    "def make_env():\n",
    "    import numpy\n",
    "    import numexpr\n",
    "\n",
    "    rerun = 'pdr2_wide'\n",
    "\n",
    "    def flux2mag(flux):\n",
    "         return -2.5 * numpy.log10(flux * (10**-9) / 3631.)\n",
    "         # return numexpr('-2.5 * log10(flux * (10**-9) / 3631.)')\n",
    "\n",
    "    def mapper(patch):\n",
    "        patch = patch[patch('forced.isprimary') & (patch('forced.i.extendedness_value') < 0.5)]\n",
    "        g = patch('forced.g.psfflux_mag')\n",
    "        r = patch('forced.r.psfflux_mag')\n",
    "        i = patch('forced.i.psfflux_mag')\n",
    "        return numpy.histogram2d(g - r, r - i, bins=(400, 800), range=((-0.5, 2), (-0.5, 2.5)))\n",
    "\n",
    "    def reducer(a, b):\n",
    "        return a[0] + b[0], a[1], a[2]\n",
    "\n",
    "with progress_bar() as progress:\n",
    "    %time result = master.run_make_env(getbody(make_env), {}, progress)\n",
    "\n",
    "import numpy\n",
    "\n",
    "hist, xedges, yedges = result\n",
    "pyplot.imshow(numpy.log(1 + hist).T, origin='low', extent=(xedges[0], xedges[-1], yedges[0], yedges[-1]))"
   ]
  },
  {
   "cell_type": "markdown",
   "metadata": {},
   "source": [
    "### SQL interface"
   ]
  },
  {
   "cell_type": "code",
   "execution_count": null,
   "metadata": {},
   "outputs": [],
   "source": [
    "from quickdb.sql2mapreduce import run_sql"
   ]
  },
  {
   "cell_type": "code",
   "execution_count": null,
   "metadata": {},
   "outputs": [],
   "source": [
    "sql = '''\n",
    "    SELECT\n",
    "        COUNT(*)\n",
    "    FROM\n",
    "        pdr2_wide\n",
    "    GROUP BY\n",
    "        forced.isprimary\n",
    "'''\n",
    "\n",
    "with progress_bar() as progress:\n",
    "    %time result = run_sql(sql, master.run_make_env, progress=progress)\n",
    "\n",
    "\n",
    "from collections import OrderedDict\n",
    "import pandas\n",
    "\n",
    "pandas.DataFrame.from_dict(OrderedDict(zip(result.target_names, result.target_list)))"
   ]
  },
  {
   "cell_type": "code",
   "execution_count": null,
   "metadata": {},
   "outputs": [],
   "source": [
    "sql = '''\n",
    "    SELECT\n",
    "        histogram2d(\n",
    "            forced.g.psfflux_mag - forced.r.psfflux_mag,\n",
    "            forced.r.psfflux_mag - forced.i.psfflux_mag,\n",
    "            bins => (400, 800),\n",
    "            range => ((-0.5, 2.), (-0.5, 2.5))\n",
    "        )\n",
    "    FROM\n",
    "        pdr2_wide\n",
    "    WHERE\n",
    "        forced.i.extendedness_value < 0.5\n",
    "'''\n",
    "\n",
    "with progress_bar() as progress:\n",
    "    %time result = run_sql(sql, master.run_make_env, progress=progress)\n",
    "\n",
    "hist, xedges, yedges = result.target_list[1][0]\n",
    "pyplot.imshow(numpy.log(1 + hist).T, origin='low', extent=(xedges[0], xedges[-1], yedges[0], yedges[-1]))"
   ]
  },
  {
   "cell_type": "markdown",
   "metadata": {},
   "source": [
    "### Cross match"
   ]
  },
  {
   "cell_type": "code",
   "execution_count": null,
   "metadata": {},
   "outputs": [],
   "source": [
    "import hscmap"
   ]
  },
  {
   "cell_type": "code",
   "execution_count": null,
   "metadata": {},
   "outputs": [],
   "source": [
    "import numpy\n",
    "\n",
    "def gen_coord(n):\n",
    "    a0 = 330\n",
    "    a1 = 370\n",
    "    d0 = -1\n",
    "    d1 = +2.5\n",
    "    r = numpy.random.uniform(a0, a1, n)\n",
    "    d = numpy.random.uniform(d0, d1, n)\n",
    "    return numpy.array([r, d])\n",
    "\n",
    "my_cat = gen_coord(10000)"
   ]
  },
  {
   "cell_type": "code",
   "execution_count": null,
   "metadata": {},
   "outputs": [],
   "source": [
    "w = hscmap.Window()"
   ]
  },
  {
   "cell_type": "code",
   "execution_count": null,
   "metadata": {},
   "outputs": [],
   "source": [
    "w.catalogs.new(*my_cat, color=[0, 1, 0, 0.25])"
   ]
  },
  {
   "cell_type": "code",
   "execution_count": null,
   "metadata": {},
   "outputs": [],
   "source": [
    "sql = f'''\n",
    "SELECT\n",
    "    crossmatch(\n",
    "        forced.coord,             -- reference catalog\n",
    "        shared.my_cat / degree,   -- user's catalog [radian]\n",
    "        5 / arcsec,               -- match radius   [radian]\n",
    "        object_id,\n",
    "        forced.coord_ra * degree,\n",
    "        forced.coord_dec * degree\n",
    "    )\n",
    "FROM\n",
    "    pdr2_wide\n",
    "WHERE\n",
    "    forced.isprimary\n",
    "'''\n",
    "\n",
    "with progress_bar() as progress:\n",
    "    %time result = run_sql(sql, master.run_make_env, shared={'my_cat': my_cat}, progress=progress)\n",
    "\n",
    "crossmatch = result.target_list[1][0]\n",
    "\n",
    "object_id, ra, dec = crossmatch.fields\n",
    "\n",
    "c2 = w.catalogs.new(ra, dec , color=[1,0,0,0.25])"
   ]
  },
  {
   "cell_type": "code",
   "execution_count": null,
   "metadata": {},
   "outputs": [],
   "source": [
    "c2.remove()"
   ]
  }
 ],
 "metadata": {
  "kernelspec": {
   "display_name": "Python 3",
   "language": "python",
   "name": "python3"
  },
  "language_info": {
   "codemirror_mode": {
    "name": "ipython",
    "version": 3
   },
   "file_extension": ".py",
   "mimetype": "text/x-python",
   "name": "python",
   "nbconvert_exporter": "python",
   "pygments_lexer": "ipython3",
   "version": "3.7.3"
  }
 },
 "nbformat": 4,
 "nbformat_minor": 4
}
