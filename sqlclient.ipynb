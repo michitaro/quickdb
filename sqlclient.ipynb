{
 "cells": [
  {
   "cell_type": "code",
   "execution_count": null,
   "metadata": {},
   "outputs": [],
   "source": [
    "from quickdb.sqlhttp import sqlclient"
   ]
  },
  {
   "cell_type": "markdown",
   "metadata": {},
   "source": [
    "### Count"
   ]
  },
  {
   "cell_type": "code",
   "execution_count": null,
   "metadata": {},
   "outputs": [],
   "source": [
    "sql = '''\n",
    "SELECT count(*) from pdr2_wide\n",
    "'''\n",
    "\n",
    "%time res = sqlclient.post_sql(sql)"
   ]
  },
  {
   "cell_type": "code",
   "execution_count": null,
   "metadata": {},
   "outputs": [],
   "source": [
    "res.dataframe()"
   ]
  },
  {
   "cell_type": "markdown",
   "metadata": {},
   "source": [
    "### Histogram"
   ]
  },
  {
   "cell_type": "markdown",
   "metadata": {},
   "source": [
    "#### 1D"
   ]
  },
  {
   "cell_type": "code",
   "execution_count": null,
   "metadata": {},
   "outputs": [],
   "source": [
    "sql = '''\n",
    "SELECT\n",
    "    histogram(forced.i.psfflux_mag, range => (10, 30), bins => 50)\n",
    "FROM\n",
    "    pdr2_wide\n",
    "WHERE\n",
    "    forced.isprimary\n",
    "GROUP BY\n",
    "    forced.i.extendedness_value < 0.5\n",
    "'''\n",
    "\n",
    "%time res = sqlclient.post_sql_with_tqdm(sql)\n",
    "\n",
    "from matplotlib import pyplot\n",
    "\n",
    "for group, (hist, bins) in zip(*res.target_list):\n",
    "    pyplot.plot(bins[1:], hist, label=group)\n",
    "    \n",
    "pyplot.grid()\n",
    "pyplot.legend()"
   ]
  },
  {
   "cell_type": "markdown",
   "metadata": {},
   "source": [
    "#### 2D"
   ]
  },
  {
   "cell_type": "code",
   "execution_count": null,
   "metadata": {},
   "outputs": [],
   "source": [
    "sql = '''\n",
    "SELECT\n",
    "    histogram2d(\n",
    "        forced.g.psfflux_mag - forced.r.psfflux_mag,\n",
    "        forced.r.psfflux_mag - forced.i.psfflux_mag,\n",
    "        bins => (200, 400), range => ((-0.5, 2.), (-0.5, 2.5)))\n",
    "FROM\n",
    "    pdr2_wide\n",
    "WHERE\n",
    "    forced.i.extendedness_value < 0.5\n",
    "'''\n",
    "\n",
    "%time res = sqlclient.post_sql_with_tqdm(sql)\n",
    "\n",
    "import numpy\n",
    "hist, xedges, yedges = res.target_list[1][0]\n",
    "pyplot.imshow(numpy.log(1 + hist).T, origin='low', extent=(xedges[0], xedges[-1], yedges[0], yedges[-1]))"
   ]
  },
  {
   "cell_type": "markdown",
   "metadata": {},
   "source": [
    "### Streaming"
   ]
  },
  {
   "cell_type": "code",
   "execution_count": null,
   "metadata": {},
   "outputs": [],
   "source": [
    "sql = '''\n",
    "    SELECT object_id from pdr2_dud\n",
    "'''\n",
    "\n",
    "count = 0\n",
    "for batch in sqlclient.post_sql_streaming_with_tqdm(sql):\n",
    "    count += len(batch.target_list[0])\n",
    "    \n",
    "count"
   ]
  },
  {
   "cell_type": "markdown",
   "metadata": {},
   "source": [
    "### Crossmatch"
   ]
  },
  {
   "cell_type": "code",
   "execution_count": null,
   "metadata": {},
   "outputs": [],
   "source": [
    "import numpy\n",
    "\n",
    "def gen_coord(n):\n",
    "    a0 = 330\n",
    "    a1 = 370\n",
    "    d0 = -1\n",
    "    d1 = +2.5\n",
    "    r = numpy.random.uniform(a0, a1, n)\n",
    "    d = numpy.random.uniform(d0, d1, n)\n",
    "    return numpy.array([r, d])\n",
    "\n",
    "my_cat = gen_coord(10000)"
   ]
  },
  {
   "cell_type": "code",
   "execution_count": null,
   "metadata": {},
   "outputs": [],
   "source": [
    "import hscmap\n",
    "w = hscmap.Window()"
   ]
  },
  {
   "cell_type": "code",
   "execution_count": null,
   "metadata": {},
   "outputs": [],
   "source": [
    "w.catalogs.clear()\n",
    "w.catalogs.new(*my_cat, color=[0, 1, 0, 0.25])"
   ]
  },
  {
   "cell_type": "code",
   "execution_count": null,
   "metadata": {},
   "outputs": [],
   "source": [
    "sql = f'''\n",
    "SELECT\n",
    "    crossmatch(\n",
    "        forced.coord,             -- reference catalog\n",
    "        shared.my_cat / degree,   -- user's catalog [radian]\n",
    "        5 / arcsec,               -- match radius   [radian]\n",
    "        forced.coord_ra * degree,\n",
    "        forced.coord_dec * degree\n",
    "    )\n",
    "FROM\n",
    "    pdr2_wide\n",
    "WHERE\n",
    "    forced.isprimary AND forced.i.psfflux_mag < 25.\n",
    "'''\n",
    "\n",
    "%time res = sqlclient.post_sql_with_tqdm(sql, shared={'my_cat': my_cat})"
   ]
  },
  {
   "cell_type": "code",
   "execution_count": null,
   "metadata": {},
   "outputs": [],
   "source": [
    "my_cat_indices, (ra, dec) = res.target_list[1][0]"
   ]
  },
  {
   "cell_type": "code",
   "execution_count": null,
   "metadata": {},
   "outputs": [],
   "source": [
    "w.catalogs.new(ra, dec, color=[1, 0, 0, 0.25])"
   ]
  },
  {
   "cell_type": "code",
   "execution_count": null,
   "metadata": {},
   "outputs": [],
   "source": []
  }
 ],
 "metadata": {
  "kernelspec": {
   "display_name": "Python 3",
   "language": "python",
   "name": "python3"
  },
  "language_info": {
   "codemirror_mode": {
    "name": "ipython",
    "version": 3
   },
   "file_extension": ".py",
   "mimetype": "text/x-python",
   "name": "python",
   "nbconvert_exporter": "python",
   "pygments_lexer": "ipython3",
   "version": "3.7.3"
  }
 },
 "nbformat": 4,
 "nbformat_minor": 4
}
