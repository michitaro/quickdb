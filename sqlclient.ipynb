{
 "cells": [
  {
   "cell_type": "code",
   "execution_count": null,
   "metadata": {},
   "outputs": [],
   "source": [
    "from quickdb.sqlhttp import sqlclient"
   ]
  },
  {
   "cell_type": "code",
   "execution_count": null,
   "metadata": {},
   "outputs": [],
   "source": [
    "sql = '''\n",
    "SELECT count(*) from pdr2_wide GROUP BY object_id % 10\n",
    "'''\n",
    "\n",
    "%time res = sqlclient.post_sql_with_tqdm(sql)\n",
    "res.dataframe()"
   ]
  },
  {
   "cell_type": "code",
   "execution_count": null,
   "metadata": {},
   "outputs": [],
   "source": [
    "sql = '''\n",
    "SELECT count(*) from pdr2_wide GROUP BY forced.isprimary\n",
    "'''\n",
    "\n",
    "%time res = sqlclient.post_sql_with_tqdm(sql)\n",
    "res.dataframe()"
   ]
  },
  {
   "cell_type": "code",
   "execution_count": null,
   "metadata": {},
   "outputs": [],
   "source": [
    "sql = '''\n",
    "SELECT\n",
    "    histogram(flux2mag(forced.i.psfflux_flux), range => (10, 30), bins => 50)\n",
    "FROM\n",
    "    pdr2_dud\n",
    "'''\n",
    "\n",
    "%time res = sqlclient.post_sql_with_tqdm(sql)\n",
    "\n",
    "from matplotlib import pyplot\n",
    "\n",
    "hist, bins = res.target_list[1][0]\n",
    "pyplot.plot(bins[1:], hist)\n",
    "pyplot.grid()"
   ]
  },
  {
   "cell_type": "code",
   "execution_count": null,
   "metadata": {},
   "outputs": [],
   "source": [
    "sql = '''\n",
    "SELECT\n",
    "    histogram2d(\n",
    "        flux2mag(forced.g.psfflux_flux) - flux2mag(forced.r.psfflux_flux),\n",
    "        flux2mag(forced.r.psfflux_flux) - flux2mag(forced.i.psfflux_flux),   \n",
    "        bins => (200, 400), range => ((-0.5, 2.), (-0.5, 2.5)))\n",
    "FROM\n",
    "    pdr2_wide\n",
    "WHERE\n",
    "    forced.i.extendedness_value < 0.5\n",
    "'''\n",
    "\n",
    "%time res = sqlclient.post_sql_with_tqdm(sql)\n",
    "\n",
    "import numpy\n",
    "hist, xedges, yedges = res.target_list[1][0]\n",
    "pyplot.imshow(numpy.log(1 + hist).T, origin='low', extent=(xedges[0], xedges[-1], yedges[0], yedges[-1]))"
   ]
  },
  {
   "cell_type": "code",
   "execution_count": null,
   "metadata": {},
   "outputs": [],
   "source": []
  }
 ],
 "metadata": {
  "kernelspec": {
   "display_name": "Python 3",
   "language": "python",
   "name": "python3"
  },
  "language_info": {
   "codemirror_mode": {
    "name": "ipython",
    "version": 3
   },
   "file_extension": ".py",
   "mimetype": "text/x-python",
   "name": "python",
   "nbconvert_exporter": "python",
   "pygments_lexer": "ipython3",
   "version": "3.7.3"
  }
 },
 "nbformat": 4,
 "nbformat_minor": 4
}
